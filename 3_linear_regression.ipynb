{
 "cells": [
  {
   "cell_type": "markdown",
   "metadata": {},
   "source": [
    "# Chapter 3 Linear Regression"
   ]
  },
  {
   "cell_type": "code",
   "execution_count": 1,
   "metadata": {},
   "outputs": [],
   "source": [
    "import math\n",
    "import numpy as np\n",
    "import pandas as pd\n",
    "import matplotlib.pyplot as plt\n",
    "import statsmodels.api as sm\n",
    "import ISLP"
   ]
  },
  {
   "cell_type": "markdown",
   "metadata": {},
   "source": [
    "## Conceptual"
   ]
  },
  {
   "cell_type": "markdown",
   "metadata": {},
   "source": [
    "### Q1\n",
    "\n",
    "Describe the null hypotheses to which the $p$-values given in Table 3.4 correspond.\n",
    "Explain what conclusions you can draw based on these $p$-values.\n",
    "Your explanation should be phrased in terms of `sales`, `TV`, `radio`, and `newspaper`, rather than in terms of the coefficients of the linear model.\n",
    "\n",
    "### A1\n",
    "\n",
    "The first $p$-value for `Intercept` corresponds to the null hypothesis that the `sales` is zero when `TV`, `radio`, and `newspaper` are all zero.\n",
    "The second $p$-value for `TV` corresponds to the null hypothesis that there is no relationship between `sales` and `TV`.\n",
    "The third $p$-value for `radio` corresponds to the null hypothesis that there is no relationship between `sales` and `radio`.\n",
    "The fourth $p$-value for `newspaper` corresponds to the null hypothesis that there is no relationship between `sales` and `newspaper`.\n",
    "Since the first three $p$-values are low and less than 0.0001, we can reject those null hypotheses.\n",
    "Since the fourth $p$-value is large, we cannot reject the null hypothesis."
   ]
  }
 ],
 "metadata": {
  "kernelspec": {
   "display_name": ".venv",
   "language": "python",
   "name": "python3"
  },
  "language_info": {
   "codemirror_mode": {
    "name": "ipython",
    "version": 3
   },
   "file_extension": ".py",
   "mimetype": "text/x-python",
   "name": "python",
   "nbconvert_exporter": "python",
   "pygments_lexer": "ipython3",
   "version": "3.12.3"
  }
 },
 "nbformat": 4,
 "nbformat_minor": 2
}
