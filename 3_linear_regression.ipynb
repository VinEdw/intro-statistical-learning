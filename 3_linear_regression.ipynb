{
 "cells": [
  {
   "cell_type": "markdown",
   "metadata": {},
   "source": [
    "# Chapter 3 Linear Regression"
   ]
  },
  {
   "cell_type": "code",
   "execution_count": 1,
   "metadata": {},
   "outputs": [],
   "source": [
    "import math\n",
    "import numpy as np\n",
    "import pandas as pd\n",
    "import matplotlib.pyplot as plt\n",
    "import statsmodels.api as sm\n",
    "import ISLP"
   ]
  },
  {
   "cell_type": "markdown",
   "metadata": {},
   "source": [
    "## Conceptual"
   ]
  },
  {
   "cell_type": "markdown",
   "metadata": {},
   "source": [
    "### Q1\n",
    "\n",
    "Describe the null hypotheses to which the $p$-values given in Table 3.4 correspond.\n",
    "Explain what conclusions you can draw based on these $p$-values.\n",
    "Your explanation should be phrased in terms of `sales`, `TV`, `radio`, and `newspaper`, rather than in terms of the coefficients of the linear model.\n",
    "\n",
    "### A1\n",
    "\n",
    "The first $p$-value for `Intercept` corresponds to the null hypothesis that the `sales` is zero when `TV`, `radio`, and `newspaper` are all zero.\n",
    "The second $p$-value for `TV` corresponds to the null hypothesis that there is no relationship between `sales` and `TV`.\n",
    "The third $p$-value for `radio` corresponds to the null hypothesis that there is no relationship between `sales` and `radio`.\n",
    "The fourth $p$-value for `newspaper` corresponds to the null hypothesis that there is no relationship between `sales` and `newspaper`.\n",
    "Since the first three $p$-values are low and less than 0.0001, we can reject those null hypotheses.\n",
    "Since the fourth $p$-value is large, we cannot reject the null hypothesis."
   ]
  },
  {
   "cell_type": "markdown",
   "metadata": {},
   "source": [
    "### Q2\n",
    "\n",
    "Carefully explain the differences between the KNN classifier and KNN regression methods.\n",
    "\n",
    "### A2\n",
    "\n",
    "The KNN classifier method takes a prediction point $x_0$, looks at the $K$ nearest points in the training data, and makes a classification based on the most common qualitative output value.\n",
    "The KNN regression method takes a prediction point $x_0$, looks at the $K$ nearest points in the training data, and makes a prediction based on the average quantitative output value."
   ]
  },
  {
   "cell_type": "markdown",
   "metadata": {},
   "source": [
    "### Q3\n",
    "\n",
    "Suppose we have a data set with five predictors, $X_1 =$ GPA, $X_2 =$ IQ, $X_3 =$ Level (1 for College and 0 for High School), $X_4 =$ Interaction between GPA and IQ, and $X_5 =$ Interaction between GPA and Level.\n",
    "The response is starting salary after graduation (in thousands of dollars).\n",
    "Suppose we use least squares to fit the model, and get $\\hat\\beta_0 = 50$, $\\hat\\beta_1 = 20$, $\\hat\\beta_2 = 0.07$, $\\hat\\beta_3 = 35$, $\\hat\\beta_4 = 0.01$, $\\hat\\beta_5 = −10$.\n",
    "- (a) Which answer is correct, and why?\n",
    "    - i. For a fixed value of IQ and GPA, high school graduates earn more, on average, than college graduates.\n",
    "    - ii. For a fixed value of IQ and GPA, college graduates earn more, on average, than high school graduates.\n",
    "    - iii. For a fixed value of IQ and GPA, high school graduates earn more, on average, than college graduates provided that the GPA is high enough.\n",
    "    - iv. For a fixed value of IQ and GPA, college graduates earn more, on average, than high school graduates provided that the GPA is high enough.\n",
    "- (b) Predict the salary of a college graduate with IQ of 110 and a GPA of 4.0.\n",
    "- (c) True or false: Since the coefficient for the GPA/IQ interaction term is very small, there is very little evidence of an  interaction effect. Justify your answer.\n",
    "\n",
    "### A3\n",
    "\n",
    "- $\\hat Y = \\hat\\beta_0 + \\hat\\beta_1 X_1 + \\hat\\beta_2 X_2 + \\hat\\beta_3 X_3 + \\hat\\beta_4 X_4 + \\hat\\beta_5 X_5$\n",
    "- $\\hat Y = \\hat\\beta_0 + \\hat\\beta_1 (\\mathrm{GPA}) + \\hat\\beta_2 (\\mathrm{IQ}) + \\hat\\beta_3 (\\mathrm{Level}) + \\hat\\beta_4 (\\mathrm{GPA}) (\\mathrm{IQ}) + \\hat\\beta_5 (\\mathrm{GPA}) (\\mathrm{Level})$\n",
    "- $\\hat Y = \\hat\\beta_0 + \\hat\\beta_1 (\\mathrm{GPA}) + \\hat\\beta_2 (\\mathrm{IQ}) + \\hat\\beta_4 (\\mathrm{GPA}) (\\mathrm{IQ}) + \\left(\\hat\\beta_3 + \\hat\\beta_5 (\\mathrm{GPA})\\right) \\times (\\mathrm{Level})$\n",
    "\n",
    "For part (a), the third answer is correct.\n",
    "\n",
    "> For a fixed value of IQ and GPA, high school graduates earn more, on average, than college graduates provided that the GPA is high enough.\n",
    "\n",
    "$\\hat\\beta_3 + \\hat\\beta_5 (\\mathrm{GPA})$ is the coefficient for `Level`.\n",
    "Since $\\hat\\beta_3 > 0$ and $\\hat\\beta_5 < 0$, the overall coefficient can be negative when $\\mathrm{GPA} > - \\frac{\\hat\\beta_3}{\\hat\\beta_5}$.\n",
    "When the overall coefficient is negative, which occurs when GPA is high enough, then being a college graduate can lead to decreases in earnings on average."
   ]
  },
  {
   "cell_type": "code",
   "execution_count": 3,
   "metadata": {},
   "outputs": [
    {
     "name": "stdout",
     "output_type": "stream",
     "text": [
      "Starting salaring in thousands of dollars: 137.1\n"
     ]
    }
   ],
   "source": [
    "def starting_salary(gpa, iq, level):\n",
    "    beta = np.array([50, 20, 0.07, 35, 0.01, -10])\n",
    "    x = np.array([1, gpa, iq, level, gpa * iq, gpa * level])\n",
    "    return np.dot(beta, x)\n",
    "\n",
    "# Predict the salary of a college graduate with IQ of 110 and GPA of 4.0\n",
    "print(f\"Starting salaring in thousands of dollars: {starting_salary(4.0, 110, 1)}\")"
   ]
  },
  {
   "cell_type": "markdown",
   "metadata": {},
   "source": [
    "The following statement is false.\n",
    "\n",
    "> Since the coefficient for the GPA/IQ interaction term is very small, there is very little evidence of an interaction effect.\n",
    "\n",
    "Even though the coefficient is small, there could still be an interaction effect.\n",
    "In depends on the standard error and whether the confidence interval contains 0."
   ]
  }
 ],
 "metadata": {
  "kernelspec": {
   "display_name": ".venv",
   "language": "python",
   "name": "python3"
  },
  "language_info": {
   "codemirror_mode": {
    "name": "ipython",
    "version": 3
   },
   "file_extension": ".py",
   "mimetype": "text/x-python",
   "name": "python",
   "nbconvert_exporter": "python",
   "pygments_lexer": "ipython3",
   "version": "3.12.3"
  }
 },
 "nbformat": 4,
 "nbformat_minor": 2
}
